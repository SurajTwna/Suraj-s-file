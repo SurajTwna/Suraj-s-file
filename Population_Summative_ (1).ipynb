from google.colab import files
from sklearn.linear_model import LinearRegression
import matplotlib.pyplot as plt
import pandas as pd
import numpy as np

upload = files.upload()
data = pd.read_csv("population_data.csv")
print(data)

year = data["Year"]
population = data["Population"]
user = input("Type something")

def bar_graph():
  plt.bar(year, population)
  plt.grid(True)
  plt.title('Bar Graph For Population Data')
  plt.show ()

def line_graph():
  plt.plot(year, population)
  plt.grid(True)
  plt.title('Line Graph For Population Data')
  plt.show ()


if user == ("line_graph"):
  line_graph()

elif user == ("bar_graph"):
  bar_graph()
